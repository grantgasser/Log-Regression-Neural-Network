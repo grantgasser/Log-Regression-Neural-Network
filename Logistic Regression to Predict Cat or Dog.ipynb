{
 "cells": [
  {
   "cell_type": "code",
   "execution_count": 1,
   "metadata": {},
   "outputs": [],
   "source": [
    "import numpy as np # linear algebra\n",
    "import pandas as pd # data processing, CSV file I/O (e.g. pd.read_csv)\n",
    "import cv2\n",
    "import matplotlib.pyplot as plt\n",
    "import os\n",
    "\n",
    "%matplotlib inline"
   ]
  },
  {
   "cell_type": "markdown",
   "metadata": {},
   "source": [
    "## Read and wrangle data"
   ]
  },
  {
   "cell_type": "markdown",
   "metadata": {},
   "source": [
    "### First, set up important variables"
   ]
  },
  {
   "cell_type": "code",
   "execution_count": 2,
   "metadata": {},
   "outputs": [
    {
     "name": "stdout",
     "output_type": "stream",
     "text": [
      "# Train:  2000 \n",
      "# Test:  1000\n",
      "First file:  cat.0.jpg\n"
     ]
    }
   ],
   "source": [
    "DATA_DIR = \"../train/\"\n",
    "TEST_DIR = \"../test/\"\n",
    "\n",
    "#my decision; the images have different dimensions, this creates\n",
    "#uniformity, pictures will be changed to 128x128\n",
    "n_px = 128\n",
    "\n",
    "#there are 25000 images, will use 2000 for train, 1000 for test\n",
    "m_train = 2000\n",
    "m_test = 1000\n",
    "\n",
    "Y_train = np.zeros((m_train, 1))\n",
    "Y_test = np.zeros((m_test, 1))\n",
    "X_train = np.zeros((m_train, n_px, n_px, 3))\n",
    "X_test = np.zeros((m_test, n_px, n_px, 3))\n",
    "\n",
    "print('# Train: ', m_train, '\\n# Test: ', m_test)\n",
    "\n",
    "print('First file: ', os.listdir(DATA_DIR)[0])"
   ]
  },
  {
   "cell_type": "markdown",
   "metadata": {},
   "source": [
    "### Read and store training images\n",
    "* Going from image (jpg) to vector (numpy array)\n",
    "* The next two for loops may take a while"
   ]
  },
  {
   "cell_type": "code",
   "execution_count": 5,
   "metadata": {},
   "outputs": [
    {
     "name": "stdout",
     "output_type": "stream",
     "text": [
      "Shape of X_train:  (2000, 128, 128, 3) \n",
      "Shape of Y_train:  (2000, 1) \n",
      "Num Cats:  1002 \n",
      "Num Dogs:  998\n"
     ]
    }
   ],
   "source": [
    "#NOTE: Indices up to 12500 are dogs, 12501-25000 are cats\n",
    "#We want 2000 training images (ideally 1000 dogs and 1000 cats)\n",
    "#and 1000 test images (ideally 500 dogs and 500 cats)\n",
    "\n",
    "#need to take random images, should get roughly 50/50 split\n",
    "indices = np.random.choice(25000, size=3000, replace=False)\n",
    "test_indices = indices[0:1000] #first 1000 are test examples\n",
    "train_indices = indices[1000:] #next 2000 are train examples\n",
    "\n",
    "#to be safe, keep track\n",
    "num_cats_train = 0\n",
    "num_dogs_train = 0\n",
    "\n",
    "train_row = 0\n",
    "\n",
    "#iterate through data, converting jpg to numpy arrays\n",
    "for ind in train_indices:\n",
    "    pic = os.listdir(DATA_DIR)[ind]\n",
    "        \n",
    "    #label is first 3 letters of file name\n",
    "    #0 will represent cats, 1 will represent dogs\n",
    "    label = int(pic[0:3] == 'dog')\n",
    "    Y_train[train_row] = label\n",
    "    \n",
    "    if label == 0:\n",
    "        num_cats_train += 1\n",
    "    elif label == 1:\n",
    "        num_dogs_train += 1\n",
    "    \n",
    "    #imread convert image to numpy array, 1 means RGB\n",
    "    img = cv2.imread(DATA_DIR + pic, 1)\n",
    "    \n",
    "    #all images have different dimensions, resize to 128x128\n",
    "    #loose some resolution\n",
    "    img_resized = cv2.resize(img, (128,128))\n",
    "    #print(img_resized.shape)\n",
    "    \n",
    "    X_train[train_row] = img_resized\n",
    "    #print(X_train.shape)\n",
    "    \n",
    "    #increment label index\n",
    "    train_row += 1\n",
    "\n",
    "print('Shape of X_train: ', X_train.shape,\n",
    "      '\\nShape of Y_train: ', Y_train.shape,\n",
    "      '\\nNum Cats: ',num_cats_train,\n",
    "      '\\nNum Dogs: ',num_dogs_train)"
   ]
  },
  {
   "cell_type": "code",
   "execution_count": 6,
   "metadata": {},
   "outputs": [
    {
     "name": "stdout",
     "output_type": "stream",
     "text": [
      "[[1.]\n",
      " [0.]\n",
      " [1.]\n",
      " [1.]\n",
      " [1.]\n",
      " [0.]\n",
      " [0.]\n",
      " [1.]\n",
      " [1.]\n",
      " [1.]]\n"
     ]
    }
   ],
   "source": [
    "print(Y_train[0:10])"
   ]
  },
  {
   "cell_type": "markdown",
   "metadata": {},
   "source": [
    "### Read and store test images"
   ]
  },
  {
   "cell_type": "code",
   "execution_count": 7,
   "metadata": {},
   "outputs": [
    {
     "name": "stdout",
     "output_type": "stream",
     "text": [
      "Shape of X_test:  (1000, 128, 128, 3) \n",
      "Shape of Y_test:  (1000, 1)\n"
     ]
    }
   ],
   "source": [
    "#iterate through data, converting jpg to numpy arrays\n",
    "#also, test data is randomized (cats and dogs mixed), so don't need to worry about indexes\n",
    "\n",
    "test_row = 0\n",
    "\n",
    "for ind in test_indices:\n",
    "    pic = os.listdir(DATA_DIR)[ind]\n",
    "    \n",
    "    #label is first 3 letters of file name\n",
    "    #0 will represent cats, 1 will represent dogs\n",
    "    label = int(pic[0:3] == 'dog')\n",
    "    Y_test[test_row] = label\n",
    "    \n",
    "    if label == 0:\n",
    "        num_cats_train += 1\n",
    "    elif label == 1:\n",
    "        num_dogs_train += 1\n",
    "        \n",
    "    #imread convert image to numpy array, 1 means RGB\n",
    "    img = cv2.imread(DATA_DIR + pic, 1)\n",
    "    \n",
    "    #all images have different dimensions, resize to 128x128\n",
    "    #loose some resolution\n",
    "    img_resized = cv2.resize(img, (128,128))\n",
    "    \n",
    "    X_test[test_row] = img_resized\n",
    "    \n",
    "    #increment\n",
    "    test_row += 1\n",
    "    \n",
    "print('Shape of X_test: ', X_test.shape,\n",
    "     '\\nShape of Y_test: ', Y_test.shape)"
   ]
  },
  {
   "cell_type": "markdown",
   "metadata": {},
   "source": [
    "### View some images,\n",
    "* change the index to see different pictures\n",
    "* Includes the training image and its label (0 for cat, 1 for dog)"
   ]
  },
  {
   "cell_type": "code",
   "execution_count": 8,
   "metadata": {},
   "outputs": [
    {
     "name": "stdout",
     "output_type": "stream",
     "text": [
      "y =  [0.]\n"
     ]
    },
    {
     "data": {
      "image/png": "[encoded data removed]",
      "text/plain": [
       "<Figure size 432x288 with 1 Axes>"
      ]
     },
     "metadata": {
      "needs_background": "light"
     },
     "output_type": "display_data"
    }
   ],
   "source": [
    "#view resized image\n",
    "index = 10\n",
    "plt.imshow(X_train[index]/255) #function wants values between 0 and 1, hence /255\n",
    "print('y = ', Y_train[index])"
   ]
  },
  {
   "cell_type": "markdown",
   "metadata": {},
   "source": [
    "### Image from test set"
   ]
  },
  {
   "cell_type": "code",
   "execution_count": 9,
   "metadata": {},
   "outputs": [
    {
     "name": "stdout",
     "output_type": "stream",
     "text": [
      "y =  [0.]\n"
     ]
    },
    {
     "data": {
      "image/png": "[encoded data removed]",
      "text/plain": [
       "<Figure size 432x288 with 1 Axes>"
      ]
     },
     "metadata": {
      "needs_background": "light"
     },
     "output_type": "display_data"
    }
   ],
   "source": [
    "index = 25\n",
    "plt.imshow(X_test[index]/255) #function wants values between 0 and 1, hence /255\n",
    "print('y = ', Y_test[index])"
   ]
  },
  {
   "cell_type": "markdown",
   "metadata": {},
   "source": [
    "### Reshape and flatten the data (unrolling)\n",
    "* Want image shape to go from (n_px, n_px, 3) to (n_px * n_px * 3, 1)"
   ]
  },
  {
   "cell_type": "code",
   "execution_count": 10,
   "metadata": {},
   "outputs": [
    {
     "name": "stdout",
     "output_type": "stream",
     "text": [
      "X_train_flat shape:   (49152, 2000)\n",
      "X_test_flat shape:   (49152, 1000)\n"
     ]
    }
   ],
   "source": [
    "X_train_flat = X_train.reshape(X_train.shape[0], -1).T\n",
    "X_test_flat = X_test.reshape(X_test.shape[0], -1).T\n",
    "\n",
    "print(\"X_train_flat shape:  \", str(X_train_flat.shape))\n",
    "print(\"X_test_flat shape:  \", str(X_test_flat.shape))"
   ]
  },
  {
   "cell_type": "markdown",
   "metadata": {},
   "source": [
    "### Standardize data set\n",
    "* As opposed to the traditional preprocessing step of standardizing by substracting the mean and dividing by the standard deviation, we can just divide every row by 255 since this is a picture dataset"
   ]
  },
  {
   "cell_type": "code",
   "execution_count": 11,
   "metadata": {},
   "outputs": [],
   "source": [
    "#Did not work with 25000 images dataset, works with 2000 and 1000\n",
    "X_train_final = (X_train_flat/255)\n",
    "X_test_final = (X_test_flat/255)"
   ]
  },
  {
   "cell_type": "markdown",
   "metadata": {},
   "source": [
    "### Logistic Regression Quick Overview\n",
    "* Can be viewed as a neural network with one unit and one layer\n",
    "\n",
    "$$z^{(i)} = w^T x^{(i)} + b \\tag{1}$$\n",
    "$$\\hat{y}^{(i)} = a^{(i)} = sigmoid(z^{(i)})\\tag{2}$$ \n",
    "$$ \\mathcal{L}(a^{(i)}, y^{(i)}) =  - y^{(i)}  \\log(a^{(i)}) - (1-y^{(i)} )  \\log(1-a^{(i)})\\tag{3}$$\n",
    "\n",
    "The cost function sums the losses for each example:\n",
    "$$ J = \\frac{1}{m} \\sum_{i=1}^m \\mathcal{L}(a^{(i)}, y^{(i)})\\tag{6}$$\n",
    "\n",
    "See the this link for information on the [sigmoid function ](https://en.wikipedia.org/wiki/Sigmoid_function). It gives us a value between 0 and 1 where we predict 1 if \n",
    "$$\\hat{y}^{(i)} > 0.5$$ and 0 otherwise.\n",
    "\n",
    "The loss function is found by taking the negative log likelihood of the MLE for the parameter w. "
   ]
  },
  {
   "cell_type": "markdown",
   "metadata": {},
   "source": [
    "## Implement the necessary functions"
   ]
  },
  {
   "cell_type": "markdown",
   "metadata": {},
   "source": [
    "### Sigmoid"
   ]
  },
  {
   "cell_type": "code",
   "execution_count": 12,
   "metadata": {},
   "outputs": [],
   "source": [
    "'''\n",
    "    Description: Computes the sigmoid of z\n",
    "    \n",
    "    Input: a scalar or numpy array\n",
    "    \n",
    "    Return: sigmoid(z)\n",
    "'''\n",
    "def sigmoid(z):\n",
    "    s = 1/(1+np.exp(-z))\n",
    "    \n",
    "    return s"
   ]
  },
  {
   "cell_type": "code",
   "execution_count": 13,
   "metadata": {},
   "outputs": [
    {
     "name": "stdout",
     "output_type": "stream",
     "text": [
      "sigmoid(2) =  0.8807970779778823\n",
      "sigmoid([0.5, 1]) =  [0.62245933 0.73105858]\n"
     ]
    }
   ],
   "source": [
    "#Test sigmoid\n",
    "print(\"sigmoid(2) = \", sigmoid(2)) #expect .88\n",
    "print(\"sigmoid([0.5, 1]) = \", sigmoid(np.array([0.5,1]))) #expect .6224 and .73106"
   ]
  },
  {
   "cell_type": "markdown",
   "metadata": {},
   "source": [
    "### Initialize parameters\n",
    "* In logistic regression, it is okay to initialize weights to 0, not in neural networks"
   ]
  },
  {
   "cell_type": "code",
   "execution_count": 14,
   "metadata": {},
   "outputs": [],
   "source": [
    "'''\n",
    "    Description: initializes w to vector of zeros (dim, 1)\n",
    "    \n",
    "    Input: dimensions\n",
    "    \n",
    "    Return: W of shape=(dim, 1) and b which is a scalar here\n",
    "'''\n",
    "def init_params(dim):\n",
    "    \n",
    "    #add the second dimension to avoid weird python datatype\n",
    "    w = np.zeros((dim, 1))\n",
    "    b = 0\n",
    "    \n",
    "    return w,b"
   ]
  },
  {
   "cell_type": "code",
   "execution_count": 15,
   "metadata": {},
   "outputs": [
    {
     "name": "stdout",
     "output_type": "stream",
     "text": [
      "w =  [[0.]\n",
      " [0.]\n",
      " [0.]]\n",
      "b =  0\n"
     ]
    }
   ],
   "source": [
    "#Test initialization function\n",
    "dim = 3\n",
    "w, b = init_params(dim)\n",
    "print(\"w = \", str(w))\n",
    "print(\"b = \", str(b))"
   ]
  },
  {
   "cell_type": "markdown",
   "metadata": {},
   "source": [
    "### Forward and Backward propagation"
   ]
  },
  {
   "cell_type": "code",
   "execution_count": 16,
   "metadata": {},
   "outputs": [],
   "source": [
    "'''\n",
    "    Description: Propagates forward & backward in the network, calculating\n",
    "        activations and gradients\n",
    "    \n",
    "    Input: weights, biases, training set X, vector of labels Y\n",
    "    \n",
    "    Returns: the loss (J), and the gradients (dw, and db)\n",
    "'''\n",
    "def propagate(w, b, X, Y):\n",
    "    m = X.shape[1]\n",
    "    \n",
    "    #Calculate activations and loss (negative log likelihood)\n",
    "    A = sigmoid(np.dot(w.T, X) + b)\n",
    "    loss = -np.sum((np.dot(Y, np.log(A.T)) + np.dot((1-Y), np.log(1-A.T))))/m\n",
    "    \n",
    "    #Backpropagate (compute gradients)\n",
    "    dw = (np.dot(X, (A-Y).T))/m\n",
    "    db = (np.sum(A-Y))/m\n",
    "    \n",
    "    #return gradients and loss\n",
    "    loss = np.squeeze(loss)\n",
    "    \n",
    "    grads = {\"dw\": dw,\n",
    "             \"db\": db}\n",
    "    \n",
    "    return grads, loss\n",
    "    \n",
    "    "
   ]
  },
  {
   "cell_type": "code",
   "execution_count": 17,
   "metadata": {},
   "outputs": [
    {
     "name": "stdout",
     "output_type": "stream",
     "text": [
      "dw = [[0.99845601]\n",
      " [2.39507239]]\n",
      "db = 0.001455578136784208\n",
      "cost = 5.801545319394553\n"
     ]
    }
   ],
   "source": [
    "w, b, X, Y = np.array([[1.],[2.]]), 2., np.array([[1.,2.,-1.],[3.,4.,-3.2]]), np.array([[1,0,1]])\n",
    "grads, cost = propagate(w, b, X, Y)\n",
    "print (\"dw = \" + str(grads[\"dw\"]))\n",
    "print (\"db = \" + str(grads[\"db\"]))\n",
    "print (\"cost = \" + str(cost))"
   ]
  },
  {
   "cell_type": "markdown",
   "metadata": {},
   "source": [
    "### Gradient Descent Optimization"
   ]
  },
  {
   "cell_type": "code",
   "execution_count": 18,
   "metadata": {},
   "outputs": [],
   "source": [
    "'''\n",
    "    Description: Performs gradient descent, minimizing w and b\n",
    "    \n",
    "    Inputs: weights, biases, X (data), and Y (labels)\n",
    "        number of iterations, learning rate when updating, and\n",
    "        whether to print the cost or not every certain amt of steps\n",
    "        \n",
    "    Returns: params dictionary (w and b), grads (gradients of w and b),\n",
    "        and costs (used to view learning curve)\n",
    "'''\n",
    "def optimize(w, b, X, Y, num_iter, learning_rate, print_cost = False):    \n",
    "    \n",
    "    costs = []\n",
    "    \n",
    "    #epochs\n",
    "    for i in range(num_iter):\n",
    "        grads, cost = propagate(w,b,X,Y)\n",
    "        \n",
    "        dw = grads[\"dw\"]\n",
    "        db = grads[\"db\"]\n",
    "        \n",
    "        #update parametrs, w := w - alpha*dw, b := b - alpha*db\n",
    "        w = w - learning_rate*dw\n",
    "        b = b - learning_rate*db\n",
    "        \n",
    "        #check costs every 100 epochs\n",
    "        if i % 100 == 0:\n",
    "            costs.append(cost)\n",
    "            \n",
    "        if print_cost and i % 100 == 0:\n",
    "            print('Cost after iteration ', i, ': ', cost)\n",
    "            \n",
    "    params = {\"w\": w,\n",
    "              \"b\": b}\n",
    "    grads = {\"dw\": dw,\n",
    "             \"db\": db}\n",
    "        \n",
    "    return params, grads, costs"
   ]
  },
  {
   "cell_type": "code",
   "execution_count": 19,
   "metadata": {},
   "outputs": [
    {
     "name": "stdout",
     "output_type": "stream",
     "text": [
      "w = [[-1.0030841 ]\n",
      " [-0.35330579]]\n",
      "b = 2.4773746865281443\n",
      "dw = [[ 0.0576797 ]\n",
      " [-0.01337738]]\n",
      "db = -0.04243082520504482\n"
     ]
    }
   ],
   "source": [
    "params, grads, costs = optimize(w, b, X, Y, num_iter= 500, learning_rate = 0.03, print_cost = False)\n",
    "\n",
    "print (\"w = \" + str(params[\"w\"]))\n",
    "print (\"b = \" + str(params[\"b\"]))\n",
    "print (\"dw = \" + str(grads[\"dw\"]))\n",
    "print (\"db = \" + str(grads[\"db\"]))"
   ]
  },
  {
   "cell_type": "markdown",
   "metadata": {},
   "source": [
    "### Make Predictions\n",
    "* $y_{hat} = \\sigma(w^TX+b)$\n",
    "* If $y_{hat} > .5$, predict 1 (dog)\n",
    "* else, predict 0 (cat)"
   ]
  },
  {
   "cell_type": "code",
   "execution_count": 20,
   "metadata": {},
   "outputs": [],
   "source": [
    "'''\n",
    "    Description: Predicts 1 (dog) or 0 (cat) using sigmoid\n",
    "    \n",
    "    Input: weights, biases, training set X\n",
    "    \n",
    "    Returns: y_pred: a vector (numpy array) with all the predictions, thus size (1,m)\n",
    "'''\n",
    "def predict(w, b, X):\n",
    "    \n",
    "    m = X.shape[1]\n",
    "    y_pred = np.zeros((1,m))\n",
    "    w = w.reshape(X.shape[0], 1)\n",
    "    \n",
    "    #get probability\n",
    "    A = sigmoid(np.dot(w.T, X) + b)\n",
    "    \n",
    "    #if y > 0.5, predict 1, else predict 0\n",
    "    for i in range(A.shape[1]):\n",
    "        if(A[0,i] > 0.5):\n",
    "            y_pred[0, i] = 1\n",
    "        else:\n",
    "            y_pred[0, i] = 0\n",
    "    \n",
    "    return y_pred"
   ]
  },
  {
   "cell_type": "code",
   "execution_count": 21,
   "metadata": {},
   "outputs": [
    {
     "name": "stdout",
     "output_type": "stream",
     "text": [
      "predictions = [[1. 1. 0.]]\n"
     ]
    }
   ],
   "source": [
    "w = np.array([[0.1124579],[0.23106775]])\n",
    "b = -0.3\n",
    "X = np.array([[1.,-1.1,-3.2],[1.2,2.,0.1]])\n",
    "print (\"predictions = \" + str(predict(w, b, X)))"
   ]
  },
  {
   "cell_type": "markdown",
   "metadata": {},
   "source": [
    "### Model:\n",
    "* Aggregate functions by calling the in this main model method"
   ]
  },
  {
   "cell_type": "code",
   "execution_count": 22,
   "metadata": {},
   "outputs": [],
   "source": [
    "'''\n",
    "    Description: Implments logistic regression in the form of a neural network\n",
    "    \n",
    "    Input: \n",
    "        X_train: (n_px * n_px * n_px, 3)\n",
    "        Y_train: (1, m_train) vector\n",
    "        X_test: (n_px * n_px * n_px, 3)\n",
    "        Y_test: (1, m_train) vector\n",
    "        num_iterations: # of epochs through the entire set\n",
    "        learning_rate: alpha, step size in gradient descent\n",
    "        print_cost: whether to print the cost of the training\n",
    "    \n",
    "    Returns: results, a dictionary with result information about the model\n",
    "\n",
    "'''\n",
    "def model(X_train_final, Y_train, X_test_final, Y_test, num_iterations = 2000, learning_rate = 0.3, print_cost = False):\n",
    "    \n",
    "    #initialize weights and biases to 0\n",
    "    w, b = init_params(X_train_final.shape[0]) #pass (n_px *n_px *n_px, 3) to function\n",
    "    \n",
    "    #Optimization\n",
    "    params, grads, costs = optimize(w, b, X_train_final, Y_train, num_iterations, learning_rate)\n",
    "    \n",
    "    w = parameters[\"w\"]\n",
    "    b = parameters[\"b\"]\n",
    "    \n",
    "    \n",
    "    #make predictions\n",
    "    Y_pred_train = predict(w, b, X_train)\n",
    "    Y_pred_test = predict(w, b, X_test)\n",
    "    \n",
    "    #print errors\n",
    "    if print_cost:\n",
    "        print('Train accuracy: ', format(100 - np.mean(np.abs(Y_pred_train - Y_train)) * 100))\n",
    "        print('Test accuracy: ', format(100 - np.mean(np.abs(Y_pred_test - Y_test)) * 100))\n",
    "    \n",
    "    results = {\"costs:\": costs, \n",
    "               \"Y_pred_test:\": Y_pred_test,\n",
    "               \"Y_pred_train:\": Y_pred_train,\n",
    "               \"w\" : w, \n",
    "               \"b\" : b,\n",
    "               \"learning_rate\" : learning_rate,\n",
    "               \"num_iterations\": num_iterations}\n",
    "    \n",
    "    return results"
   ]
  },
  {
   "cell_type": "markdown",
   "metadata": {},
   "source": [
    "### TODO:\n",
    "* Fix dimensional error\n",
    "* Evaluate accuracy and common misclassifications\n",
    "* Try different learning rates"
   ]
  },
  {
   "cell_type": "code",
   "execution_count": null,
   "metadata": {},
   "outputs": [],
   "source": [
    "results = model(X_train_final, Y_train, X_test_final, Y_test, num_iterations = 2000, learning_rate = .005, print_cost = True)"
   ]
  },
  {
   "cell_type": "code",
   "execution_count": null,
   "metadata": {},
   "outputs": [],
   "source": []
  },
  {
   "cell_type": "code",
   "execution_count": null,
   "metadata": {},
   "outputs": [],
   "source": []
  },
  {
   "cell_type": "code",
   "execution_count": null,
   "metadata": {},
   "outputs": [],
   "source": []
  },
  {
   "cell_type": "code",
   "execution_count": null,
   "metadata": {},
   "outputs": [],
   "source": []
  },
  {
   "cell_type": "code",
   "execution_count": null,
   "metadata": {},
   "outputs": [],
   "source": []
  }
 ],
 "metadata": {
  "kernelspec": {
   "display_name": "Python 3",
   "language": "python",
   "name": "python3"
  },
  "language_info": {
   "codemirror_mode": {
    "name": "ipython",
    "version": 3
   },
   "file_extension": ".py",
   "mimetype": "text/x-python",
   "name": "python",
   "nbconvert_exporter": "python",
   "pygments_lexer": "ipython3",
   "version": "3.7.1"
  }
 },
 "nbformat": 4,
 "nbformat_minor": 2
}
